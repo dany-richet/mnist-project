{
  "metadata": {
    "kernelspec": {
      "display_name": "Python 2",
      "name": "python2",
      "language": "python"
    },
    "language_info": {
      "mimetype": "text/x-python",
      "nbconvert_exporter": "python",
      "version": "2.7.16",
      "name": "python",
      "pygments_lexer": "ipython2",
      "file_extension": ".py",
      "codemirror_mode": {
        "version": 2,
        "name": "ipython"
      }
    },
    "tags": [
      "recipe-editor"
    ],
    "associatedRecipe": "compute_transactions_unknown_sampled",
    "createdOn": 1649311640196,
    "hide_input": false,
    "modifiedBy": "admin",
    "customFields": {},
    "creator": "admin"
  },
  "nbformat": 4,
  "nbformat_minor": 1,
  "cells": [
    {
      "execution_count": 0,
      "cell_type": "code",
      "metadata": {},
      "source": [
        "# -*- coding: utf-8 -*-\nimport dataiku\nimport pandas as pd, numpy as np\nfrom dataiku import pandasutils as pdu\n\n# Read recipe inputs\ntransactions_unknown \u003d dataiku.Dataset(\"transactions_unknown\")\ntransactions_unknown_df \u003d transactions_unknown.get_dataframe()\n\n\n# Compute recipe outputs from inputs\n# TODO: Replace this part by your actual code that computes the output, as a Pandas dataframe\n# NB: DSS also supports other kinds of APIs for reading and writing data. Please see doc.\n\ntransactions_unknown_df \u003d (\n    transactions_unknown_df.sample(0.2)\n)\n\ntransactions_unknown_sampled_df \u003d transactions_unknown_df # For this sample code, simply copy input to output\n\n\n# Write recipe outputs\ntransactions_unknown_sampled \u003d dataiku.Dataset(\"transactions_unknown_sampled\")\ntransactions_unknown_sampled.write_with_schema(transactions_unknown_sampled_df)"
      ],
      "outputs": []
    }
  ]
}